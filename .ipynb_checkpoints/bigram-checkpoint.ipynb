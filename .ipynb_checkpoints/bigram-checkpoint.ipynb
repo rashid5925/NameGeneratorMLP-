{
 "cells": [
  {
   "cell_type": "code",
   "execution_count": 68,
   "id": "41ef1952-2222-4844-95ad-11a48231e873",
   "metadata": {},
   "outputs": [],
   "source": [
    "words = open('names.txt', 'r').read().splitlines()"
   ]
  },
  {
   "cell_type": "code",
   "execution_count": 69,
   "id": "1b65f98d-3ef6-4183-be1e-2684260a4a25",
   "metadata": {},
   "outputs": [
    {
     "data": {
      "text/plain": [
       "['emma',\n",
       " 'olivia',\n",
       " 'ava',\n",
       " 'isabella',\n",
       " 'sophia',\n",
       " 'charlotte',\n",
       " 'mia',\n",
       " 'amelia',\n",
       " 'harper',\n",
       " 'evelyn']"
      ]
     },
     "execution_count": 69,
     "metadata": {},
     "output_type": "execute_result"
    }
   ],
   "source": [
    "words[:10]"
   ]
  },
  {
   "cell_type": "code",
   "execution_count": 70,
   "id": "49a1f5ce-dfd3-4eb7-97db-0c7c72186b1b",
   "metadata": {},
   "outputs": [],
   "source": [
    "import torch"
   ]
  },
  {
   "cell_type": "code",
   "execution_count": 71,
   "id": "4fb96621-62f8-454a-9a15-f1c23ca1e615",
   "metadata": {},
   "outputs": [],
   "source": [
    "N = torch.zeros(27, 27, dtype=torch.int32)"
   ]
  },
  {
   "cell_type": "code",
   "execution_count": 72,
   "id": "1269a015-6303-41a5-ad9e-7064357f444a",
   "metadata": {},
   "outputs": [],
   "source": [
    "chars = sorted(list(set(''.join(words))))\n",
    "stoi = {s:i+1 for i, s in enumerate(chars)}\n",
    "stoi['.'] = 0\n",
    "itos = {i:s for s, i in stoi.items()}"
   ]
  },
  {
   "cell_type": "code",
   "execution_count": 73,
   "id": "80e2dc07-c5bc-4753-b7fe-43e38cae5910",
   "metadata": {},
   "outputs": [],
   "source": [
    "for w in words:\n",
    "    chs = ['.'] + list(w) + ['.']\n",
    "    for ch1, ch2 in zip(chs, chs[1:]):\n",
    "        ix1 = stoi[ch1]\n",
    "        ix2 = stoi[ch2]\n",
    "        N[ix1, ix2] += 1"
   ]
  },
  {
   "cell_type": "markdown",
   "id": "cf0ab6b8-bf03-4e97-9e13-dcc2662f900d",
   "metadata": {},
   "source": [
    "# Explaination of N\n",
    "### Row in N represent first character and Column 2nd character.\n",
    "### So, each element respresent how many times 2nd comes after 1st\n",
    "## For example\n",
    "        a    b\n",
    "    [a[556, 541]]\n",
    "### So b comes 541 times after a "
   ]
  },
  {
   "cell_type": "code",
   "execution_count": 77,
   "id": "67e2d220-a42d-4e25-bede-686d6860aca2",
   "metadata": {
    "scrolled": true
   },
   "outputs": [
    {
     "data": {
      "text/plain": [
       "tensor([   0, 4410, 1306, 1542, 1690, 1531,  417,  669,  874,  591, 2422, 2963,\n",
       "        1572, 2538, 1146,  394,  515,   92, 1639, 2055, 1308,   78,  376,  307,\n",
       "         134,  535,  929], dtype=torch.int32)"
      ]
     },
     "execution_count": 77,
     "metadata": {},
     "output_type": "execute_result"
    }
   ],
   "source": [
    "N[0]"
   ]
  },
  {
   "cell_type": "code",
   "execution_count": 99,
   "id": "f31cf545-a338-4fcb-ad4a-b06ce00db567",
   "metadata": {},
   "outputs": [],
   "source": [
    "P = (N+1).float()\n",
    "P /= P.sum(1, keepdim=True)"
   ]
  },
  {
   "cell_type": "code",
   "execution_count": 100,
   "id": "566536fa-e5dd-4cf6-ac28-484c68555716",
   "metadata": {},
   "outputs": [
    {
     "name": "stdout",
     "output_type": "stream",
     "text": [
      "junide.\n",
      "janasah.\n",
      "p.\n",
      "cony.\n",
      "a.\n"
     ]
    }
   ],
   "source": [
    "g = torch.Generator().manual_seed(2147483647)\n",
    "for i in range(5):\n",
    "    ix = 0\n",
    "    out = []\n",
    "    while True:\n",
    "        p = P[ix]\n",
    "        ix = torch.multinomial(p, num_samples=1, replacement=True, generator=g).item()\n",
    "        out.append(itos[ix])\n",
    "        if ix == 0:\n",
    "            break\n",
    "    print(''.join(out))"
   ]
  },
  {
   "cell_type": "code",
   "execution_count": 101,
   "id": "7d480c2f-ee13-4583-962c-ed6a951fbe97",
   "metadata": {},
   "outputs": [
    {
     "name": "stdout",
     "output_type": "stream",
     "text": [
      "-412482.3750\n",
      "412482.3750\n",
      "2.5139100551605225\n"
     ]
    }
   ],
   "source": [
    "log_likelihood = 0.0\n",
    "n = 0\n",
    "for w in words:\n",
    "    for ch1, ch2 in zip(w, w[1:]):\n",
    "        ix1 = stoi[ch1]\n",
    "        ix2 = stoi[ch2]\n",
    "        prob = P[ix1, ix2]\n",
    "        log_prob = torch.log(prob)\n",
    "        log_likelihood += log_prob\n",
    "        n += 1\n",
    "print(f'{log_likelihood:.4f}')\n",
    "nll = -log_likelihood\n",
    "print(f'{nll:.4f}')\n",
    "print(f'{nll / n}')"
   ]
  },
  {
   "cell_type": "code",
   "execution_count": 103,
   "id": "fbd7305a-86ef-4514-961f-a20fc291524d",
   "metadata": {},
   "outputs": [],
   "source": [
    "xs , ys = [], []\n",
    "for w in words[:1]:\n",
    "    chs = ['.'] + list(w) + ['.']\n",
    "    for ch1, ch2 in zip(chs, chs[1:]):\n",
    "        x = stoi[ch1]\n",
    "        y = stoi[ch2]\n",
    "        xs.append(x)\n",
    "        ys.append(y)\n",
    "xs = torch.tensor(xs)\n",
    "ys = torch.tensor(ys)"
   ]
  },
  {
   "cell_type": "code",
   "execution_count": 104,
   "id": "6675e38b-7dde-41db-9969-71676998d19c",
   "metadata": {},
   "outputs": [
    {
     "data": {
      "text/plain": [
       "tensor([ 0,  5, 13, 13,  1])"
      ]
     },
     "execution_count": 104,
     "metadata": {},
     "output_type": "execute_result"
    }
   ],
   "source": [
    "xs"
   ]
  },
  {
   "cell_type": "code",
   "execution_count": 105,
   "id": "a51f9a07-7a19-432b-8373-2e5a99051f18",
   "metadata": {},
   "outputs": [
    {
     "data": {
      "text/plain": [
       "tensor([ 5, 13, 13,  1,  0])"
      ]
     },
     "execution_count": 105,
     "metadata": {},
     "output_type": "execute_result"
    }
   ],
   "source": [
    "ys"
   ]
  },
  {
   "cell_type": "code",
   "execution_count": 106,
   "id": "0bd2b20b-4400-4c9e-97f6-6ff8930f17fb",
   "metadata": {},
   "outputs": [],
   "source": [
    "import torch.nn.functional as F"
   ]
  },
  {
   "cell_type": "code",
   "execution_count": 107,
   "id": "228b6d14-9fb3-40f7-9fb5-dc0607bf72f9",
   "metadata": {},
   "outputs": [
    {
     "data": {
      "text/plain": [
       "tensor([[1., 0., 0., 0., 0., 0., 0., 0., 0., 0., 0., 0., 0., 0., 0., 0., 0., 0.,\n",
       "         0., 0., 0., 0., 0., 0., 0., 0., 0.],\n",
       "        [0., 0., 0., 0., 0., 1., 0., 0., 0., 0., 0., 0., 0., 0., 0., 0., 0., 0.,\n",
       "         0., 0., 0., 0., 0., 0., 0., 0., 0.],\n",
       "        [0., 0., 0., 0., 0., 0., 0., 0., 0., 0., 0., 0., 0., 1., 0., 0., 0., 0.,\n",
       "         0., 0., 0., 0., 0., 0., 0., 0., 0.],\n",
       "        [0., 0., 0., 0., 0., 0., 0., 0., 0., 0., 0., 0., 0., 1., 0., 0., 0., 0.,\n",
       "         0., 0., 0., 0., 0., 0., 0., 0., 0.],\n",
       "        [0., 1., 0., 0., 0., 0., 0., 0., 0., 0., 0., 0., 0., 0., 0., 0., 0., 0.,\n",
       "         0., 0., 0., 0., 0., 0., 0., 0., 0.]])"
      ]
     },
     "execution_count": 107,
     "metadata": {},
     "output_type": "execute_result"
    }
   ],
   "source": [
    "xenc = F.one_hot(xs, num_classes=27).float()\n",
    "xenc"
   ]
  },
  {
   "cell_type": "code",
   "execution_count": 109,
   "id": "97dde2c9-40b3-4d0d-9e08-c715a3050f49",
   "metadata": {},
   "outputs": [
    {
     "data": {
      "text/plain": [
       "tensor([[-0.8320,  1.1692, -0.3099,  0.6340,  0.4918,  0.4971,  1.8739, -0.9681,\n",
       "         -0.0569,  0.0156, -1.8851,  0.7243, -0.2007,  2.0553, -0.2197,  0.0560,\n",
       "          0.4112, -0.1986, -0.2428, -0.7749, -0.4639,  0.2379, -1.1562,  0.2115,\n",
       "          0.3002,  0.1146, -1.5477],\n",
       "        [ 0.1041,  1.5036, -0.6653, -1.8082,  0.5517, -0.2934, -0.7321, -0.3047,\n",
       "          1.1579,  1.3094,  1.5625, -1.2716,  1.7130,  0.9169, -1.9005, -0.2472,\n",
       "         -1.5684, -1.5911,  0.1196, -0.8655,  0.1482,  0.5027, -0.5687, -0.2984,\n",
       "          1.4025, -1.4220,  1.0653],\n",
       "        [-0.3209, -1.5823,  0.1331,  0.5531,  0.0097, -0.8643, -0.7884, -0.2571,\n",
       "          0.1531, -0.2671,  1.7748, -0.5229,  1.3469,  0.8557, -0.5248,  1.1586,\n",
       "         -0.2422,  0.7143, -0.4684,  0.1942, -0.0511, -0.7432,  0.4138, -0.2360,\n",
       "          0.2256,  0.0917, -0.7854],\n",
       "        [-0.3209, -1.5823,  0.1331,  0.5531,  0.0097, -0.8643, -0.7884, -0.2571,\n",
       "          0.1531, -0.2671,  1.7748, -0.5229,  1.3469,  0.8557, -0.5248,  1.1586,\n",
       "         -0.2422,  0.7143, -0.4684,  0.1942, -0.0511, -0.7432,  0.4138, -0.2360,\n",
       "          0.2256,  0.0917, -0.7854],\n",
       "        [ 0.7766,  0.6913, -0.7023, -0.5441, -1.0281,  0.2315,  0.8896,  0.7770,\n",
       "          0.6523,  0.6267,  1.4843, -0.1748,  1.0842, -0.0599, -0.2148,  0.0747,\n",
       "         -0.3096,  0.0927,  0.0785,  1.5344, -1.0840,  0.7109,  0.0780, -2.0892,\n",
       "          0.9479, -1.0443,  3.4389]])"
      ]
     },
     "execution_count": 109,
     "metadata": {},
     "output_type": "execute_result"
    }
   ],
   "source": [
    "W = torch.randn(27, 27)\n",
    "xenc @ W"
   ]
  },
  {
   "cell_type": "code",
   "execution_count": 111,
   "id": "371733b8-3cc8-41fe-ad3b-8e349e02375d",
   "metadata": {
    "scrolled": true
   },
   "outputs": [
    {
     "data": {
      "text/plain": [
       "tensor([[0.0107, 0.0789, 0.0180, 0.0462, 0.0401, 0.0403, 0.1596, 0.0093, 0.0231,\n",
       "         0.0249, 0.0037, 0.0506, 0.0200, 0.1913, 0.0197, 0.0259, 0.0370, 0.0201,\n",
       "         0.0192, 0.0113, 0.0154, 0.0311, 0.0077, 0.0303, 0.0331, 0.0275, 0.0052],\n",
       "        [0.0251, 0.1018, 0.0116, 0.0037, 0.0393, 0.0169, 0.0109, 0.0167, 0.0720,\n",
       "         0.0838, 0.1080, 0.0063, 0.1255, 0.0566, 0.0034, 0.0177, 0.0047, 0.0046,\n",
       "         0.0255, 0.0095, 0.0262, 0.0374, 0.0128, 0.0168, 0.0920, 0.0055, 0.0657],\n",
       "        [0.0201, 0.0057, 0.0317, 0.0482, 0.0280, 0.0117, 0.0126, 0.0214, 0.0323,\n",
       "         0.0212, 0.1635, 0.0164, 0.1066, 0.0652, 0.0164, 0.0883, 0.0218, 0.0566,\n",
       "         0.0174, 0.0337, 0.0263, 0.0132, 0.0419, 0.0219, 0.0347, 0.0304, 0.0126],\n",
       "        [0.0201, 0.0057, 0.0317, 0.0482, 0.0280, 0.0117, 0.0126, 0.0214, 0.0323,\n",
       "         0.0212, 0.1635, 0.0164, 0.1066, 0.0652, 0.0164, 0.0883, 0.0218, 0.0566,\n",
       "         0.0174, 0.0337, 0.0263, 0.0132, 0.0419, 0.0219, 0.0347, 0.0304, 0.0126],\n",
       "        [0.0304, 0.0279, 0.0069, 0.0081, 0.0050, 0.0176, 0.0340, 0.0304, 0.0268,\n",
       "         0.0262, 0.0617, 0.0117, 0.0413, 0.0132, 0.0113, 0.0151, 0.0103, 0.0153,\n",
       "         0.0151, 0.0649, 0.0047, 0.0285, 0.0151, 0.0017, 0.0361, 0.0049, 0.4356]])"
      ]
     },
     "execution_count": 111,
     "metadata": {},
     "output_type": "execute_result"
    }
   ],
   "source": [
    "logits = xenc @ W # log-counts\n",
    "counts = logits.exp()\n",
    "probs = counts / counts.sum(1, keepdim=True)\n",
    "probs"
   ]
  },
  {
   "cell_type": "code",
   "execution_count": 112,
   "id": "427b1e4c-e023-4dc8-99bd-a2bcfd68ff13",
   "metadata": {},
   "outputs": [
    {
     "data": {
      "text/plain": [
       "tensor(1.0000)"
      ]
     },
     "execution_count": 112,
     "metadata": {},
     "output_type": "execute_result"
    }
   ],
   "source": [
    "probs[0].sum()"
   ]
  },
  {
   "cell_type": "code",
   "execution_count": 123,
   "id": "e1b3ee2b-f5b5-4be2-af9a-a8105032359c",
   "metadata": {
    "scrolled": true
   },
   "outputs": [
    {
     "name": "stdout",
     "output_type": "stream",
     "text": [
      "------\n",
      "chars: (., e) indices: (0, 5)\n",
      "Input 0\n",
      "Output prob: tensor([0.0107, 0.0789, 0.0180, 0.0462, 0.0401, 0.0403, 0.1596, 0.0093, 0.0231,\n",
      "        0.0249, 0.0037, 0.0506, 0.0200, 0.1913, 0.0197, 0.0259, 0.0370, 0.0201,\n",
      "        0.0192, 0.0113, 0.0154, 0.0311, 0.0077, 0.0303, 0.0331, 0.0275, 0.0052])\n",
      "Next char e\n",
      "Prob of next char 0.040277447551488876\n",
      "Neg likelihood: 3.211963653564453\n",
      "------\n",
      "chars: (e, m) indices: (5, 13)\n",
      "Input 5\n",
      "Output prob: tensor([0.0251, 0.1018, 0.0116, 0.0037, 0.0393, 0.0169, 0.0109, 0.0167, 0.0720,\n",
      "        0.0838, 0.1080, 0.0063, 0.1255, 0.0566, 0.0034, 0.0177, 0.0047, 0.0046,\n",
      "        0.0255, 0.0095, 0.0262, 0.0374, 0.0128, 0.0168, 0.0920, 0.0055, 0.0657])\n",
      "Next char m\n",
      "Prob of next char 0.05660894513130188\n",
      "Neg likelihood: 2.8715882301330566\n",
      "------\n",
      "chars: (m, m) indices: (13, 13)\n",
      "Input 13\n",
      "Output prob: tensor([0.0201, 0.0057, 0.0317, 0.0482, 0.0280, 0.0117, 0.0126, 0.0214, 0.0323,\n",
      "        0.0212, 0.1635, 0.0164, 0.1066, 0.0652, 0.0164, 0.0883, 0.0218, 0.0566,\n",
      "        0.0174, 0.0337, 0.0263, 0.0132, 0.0419, 0.0219, 0.0347, 0.0304, 0.0126])\n",
      "Next char m\n",
      "Prob of next char 0.06523481756448746\n",
      "Neg likelihood: 2.729761838912964\n",
      "------\n",
      "chars: (m, a) indices: (13, 1)\n",
      "Input 13\n",
      "Output prob: tensor([0.0201, 0.0057, 0.0317, 0.0482, 0.0280, 0.0117, 0.0126, 0.0214, 0.0323,\n",
      "        0.0212, 0.1635, 0.0164, 0.1066, 0.0652, 0.0164, 0.0883, 0.0218, 0.0566,\n",
      "        0.0174, 0.0337, 0.0263, 0.0132, 0.0419, 0.0219, 0.0347, 0.0304, 0.0126])\n",
      "Next char a\n",
      "Prob of next char 0.005697124172002077\n",
      "Neg likelihood: 5.1677937507629395\n",
      "------\n",
      "chars: (a, .) indices: (1, 0)\n",
      "Input 1\n",
      "Output prob: tensor([0.0304, 0.0279, 0.0069, 0.0081, 0.0050, 0.0176, 0.0340, 0.0304, 0.0268,\n",
      "        0.0262, 0.0617, 0.0117, 0.0413, 0.0132, 0.0113, 0.0151, 0.0103, 0.0153,\n",
      "        0.0151, 0.0649, 0.0047, 0.0285, 0.0151, 0.0017, 0.0361, 0.0049, 0.4356])\n",
      "Next char .\n",
      "Prob of next char 0.030399316921830177\n",
      "Neg likelihood: 3.493335247039795\n",
      "==========\n",
      "Avg likelihood: 3.4948887825012207\n"
     ]
    }
   ],
   "source": [
    "nlls = torch.zeros(5)\n",
    "for i in range(5):\n",
    "    print('------')\n",
    "    x = xs[i].item()\n",
    "    y = ys[i].item()\n",
    "    ch1 = itos[x]\n",
    "    ch2 = itos[y]\n",
    "    print(f'chars: ({ch1}, {ch2}) indices: ({x}, {y})')\n",
    "    print(f'Input {x}')\n",
    "    print(f'Output prob: {probs[i]}')\n",
    "    print(f'Next char {ch2}')\n",
    "    p = probs[i, y]\n",
    "    print(f'Prob of next char {p}')\n",
    "    logp = torch.log(p)\n",
    "    nll = - logp\n",
    "    print(f'Neg likelihood: {nll}')\n",
    "    nlls[i] = nll\n",
    "print('==========')\n",
    "print(f'Avg likelihood: {nlls.mean().item()}')"
   ]
  },
  {
   "cell_type": "code",
   "execution_count": 128,
   "id": "fa4d0b0c-cc7e-4c0d-bd94-8f4f6af0f163",
   "metadata": {},
   "outputs": [],
   "source": [
    "# random generate wieghts\n",
    "W = torch.randn((27, 27), generator=g, requires_grad=True)"
   ]
  },
  {
   "cell_type": "code",
   "execution_count": 144,
   "id": "1b997da4-5cc7-43d2-aa86-14be1f478bb4",
   "metadata": {},
   "outputs": [
    {
     "data": {
      "text/plain": [
       "tensor(3.5122, grad_fn=<NegBackward0>)"
      ]
     },
     "execution_count": 144,
     "metadata": {},
     "output_type": "execute_result"
    }
   ],
   "source": [
    "# forward pass\n",
    "xenc = F.one_hot(xs, num_classes=27).float()\n",
    "logits = xenc @ W\n",
    "counts = logits.exp()\n",
    "probs = counts / counts.sum(1, keepdim=True)\n",
    "loss = -probs[torch.arange(5), ys].log().mean()\n",
    "loss"
   ]
  },
  {
   "cell_type": "code",
   "execution_count": 142,
   "id": "e18115f5-d6e2-4baa-922a-96d4bd220ccb",
   "metadata": {},
   "outputs": [],
   "source": [
    "# backward pass\n",
    "W.grad = None\n",
    "loss.backward()"
   ]
  },
  {
   "cell_type": "code",
   "execution_count": 143,
   "id": "36ef6436-6439-4813-becd-34ccf7d4f20c",
   "metadata": {},
   "outputs": [],
   "source": [
    "# update\n",
    "W.data += -0.1 * W.grad"
   ]
  },
  {
   "cell_type": "code",
   "execution_count": 153,
   "id": "3205eb5b-665a-4f10-8a2c-cddac0330ee6",
   "metadata": {},
   "outputs": [
    {
     "name": "stdout",
     "output_type": "stream",
     "text": [
      "Num of examples: 228146\n"
     ]
    }
   ],
   "source": [
    "xs, ys = [], []\n",
    "for w in words:\n",
    "    chs = ['.'] + list(w) + ['.']\n",
    "    for ch1, ch2 in zip(chs, chs[1:]):\n",
    "        x = stoi[ch1]\n",
    "        y = stoi[ch2]\n",
    "        xs.append(x)\n",
    "        ys.append(y)\n",
    "xs = torch.tensor(xs)\n",
    "ys = torch.tensor(ys)\n",
    "num = xs.nelement()\n",
    "print(f'Num of examples: {num}')\n",
    "# initialize the networks\n",
    "W = torch.randn((27, 27), generator=g, requires_grad=True)"
   ]
  },
  {
   "cell_type": "code",
   "execution_count": 171,
   "id": "3e8d3725-72cb-4922-8a0b-bc28ed2676fe",
   "metadata": {},
   "outputs": [
    {
     "name": "stdout",
     "output_type": "stream",
     "text": [
      "tensor(2.4814, grad_fn=<AddBackward0>)\n"
     ]
    }
   ],
   "source": [
    "# gradient decent\n",
    "loss = 0.0\n",
    "for i in range(100):\n",
    "    # forward pass\n",
    "    xenc = F.one_hot(xs, num_classes=27).float()\n",
    "    logits = xenc @ W\n",
    "    counts = logits.exp()\n",
    "    probs = counts / counts.sum(1, keepdim=True)\n",
    "    loss = -probs[torch.arange(num), ys].log().mean() + 0.01*(W**2).mean()\n",
    "    \n",
    "    # backward pass\n",
    "    W.grad = None\n",
    "    loss.backward()\n",
    "\n",
    "    # update\n",
    "    W.data += -50 * W.grad\n",
    "print(loss)"
   ]
  },
  {
   "cell_type": "code",
   "execution_count": 172,
   "id": "2ccf21e0-e18d-4799-882c-d3aded994124",
   "metadata": {},
   "outputs": [
    {
     "name": "stdout",
     "output_type": "stream",
     "text": [
      "junide.\n",
      "janasah.\n",
      "prelay.\n",
      "a.\n",
      "nn.\n"
     ]
    }
   ],
   "source": [
    "g = torch.Generator().manual_seed(2147483647)\n",
    "\n",
    "for i in range(5):\n",
    "    ix = 0\n",
    "    out = []\n",
    "    while True:\n",
    "        xenc = F.one_hot(torch.tensor([ix]), num_classes=27).float()\n",
    "        logits = xenc @ W\n",
    "        counts = logits.exp()\n",
    "        p = counts / counts.sum(1, keepdim=True)\n",
    "        ix = torch.multinomial(p, num_samples=1, replacement=True, generator=g).item()\n",
    "        out.append(itos[ix])\n",
    "        if ix == 0:\n",
    "            break\n",
    "    print(''.join(out))"
   ]
  },
  {
   "cell_type": "code",
   "execution_count": null,
   "id": "e745bad9-7a80-4abf-a0c6-ef096907b9e2",
   "metadata": {},
   "outputs": [],
   "source": []
  },
  {
   "cell_type": "code",
   "execution_count": null,
   "id": "11978c33-b4f5-493d-8c63-3812e9a56391",
   "metadata": {},
   "outputs": [],
   "source": []
  }
 ],
 "metadata": {
  "kernelspec": {
   "display_name": "Python 3 (ipykernel)",
   "language": "python",
   "name": "python3"
  },
  "language_info": {
   "codemirror_mode": {
    "name": "ipython",
    "version": 3
   },
   "file_extension": ".py",
   "mimetype": "text/x-python",
   "name": "python",
   "nbconvert_exporter": "python",
   "pygments_lexer": "ipython3",
   "version": "3.11.5"
  }
 },
 "nbformat": 4,
 "nbformat_minor": 5
}
